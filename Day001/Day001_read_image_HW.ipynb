{
 "cells": [
  {
   "cell_type": "markdown",
   "metadata": {},
   "source": [
    "# 作業\n",
    "\n",
    "思考一下我們前面有提到圖片是矩陣，但維度可能會不一樣\n",
    "例如灰階圖只有兩個維度，RGB 彩圖則有 3 個維度\n",
    "\n",
    "假如今天我們把 RGB 3 個維度拆開來看會有甚麼不同的效果呢？"
   ]
  },
  {
   "cell_type": "code",
   "execution_count": 5,
   "metadata": {},
   "outputs": [],
   "source": [
    "import cv2\n",
    "import numpy as np"
   ]
  },
  {
   "cell_type": "code",
   "execution_count": 2,
   "metadata": {},
   "outputs": [
    {
     "data": {
      "text/plain": [
       "array([[[100, 107,  50],\n",
       "        [100, 107,  50],\n",
       "        [100, 107,  50],\n",
       "        ...,\n",
       "        [ 98, 108,  48],\n",
       "        [ 98, 108,  48],\n",
       "        [ 97, 107,  47]],\n",
       "\n",
       "       [[100, 107,  50],\n",
       "        [100, 107,  50],\n",
       "        [100, 107,  50],\n",
       "        ...,\n",
       "        [ 98, 108,  48],\n",
       "        [ 98, 108,  48],\n",
       "        [ 97, 107,  47]],\n",
       "\n",
       "       [[100, 107,  50],\n",
       "        [100, 107,  50],\n",
       "        [100, 107,  50],\n",
       "        ...,\n",
       "        [ 98, 108,  48],\n",
       "        [ 98, 108,  48],\n",
       "        [ 97, 107,  47]],\n",
       "\n",
       "       ...,\n",
       "\n",
       "       [[128, 104, 146],\n",
       "        [126, 102, 144],\n",
       "        [127,  99, 142],\n",
       "        ...,\n",
       "        [171, 130, 158],\n",
       "        [169, 131, 159],\n",
       "        [167, 132, 158]],\n",
       "\n",
       "       [[129, 105, 147],\n",
       "        [127, 103, 145],\n",
       "        [128, 100, 143],\n",
       "        ...,\n",
       "        [171, 130, 158],\n",
       "        [169, 131, 159],\n",
       "        [167, 132, 158]],\n",
       "\n",
       "       [[129, 105, 147],\n",
       "        [127, 103, 145],\n",
       "        [128, 100, 143],\n",
       "        ...,\n",
       "        [171, 130, 158],\n",
       "        [169, 131, 159],\n",
       "        [167, 132, 158]]], dtype=uint8)"
      ]
     },
     "execution_count": 2,
     "metadata": {},
     "output_type": "execute_result"
    }
   ],
   "source": [
    "img_color = cv2.imread(\"image/holmes.jpg\", 1)\n",
    "img_color"
   ]
  },
  {
   "cell_type": "code",
   "execution_count": 8,
   "metadata": {},
   "outputs": [],
   "source": [
    "blue_img = img_color[:,:, 0]\n",
    "green_img = img_color[:,:, 1]\n",
    "red_img = img_color[:,:, 2]\n",
    "\n",
    "BGR_img = np.hstack((blue_img, green_img, red_img))\n",
    "cv2.imshow(\"BGR\", BGR_img)\n",
    "cv2.\n",
    "cv2.waitKey(0)\n",
    "cv2.destroyAllWindows()"
   ]
  },
  {
   "cell_type": "code",
   "execution_count": null,
   "metadata": {},
   "outputs": [],
   "source": []
  }
 ],
 "metadata": {
  "kernelspec": {
   "display_name": "Python 3",
   "language": "python",
   "name": "python3"
  },
  "language_info": {
   "codemirror_mode": {
    "name": "ipython",
    "version": 3
   },
   "file_extension": ".py",
   "mimetype": "text/x-python",
   "name": "python",
   "nbconvert_exporter": "python",
   "pygments_lexer": "ipython3",
   "version": "3.7.6"
  }
 },
 "nbformat": 4,
 "nbformat_minor": 2
}
